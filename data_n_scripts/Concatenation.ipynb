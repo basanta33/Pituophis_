{
 "cells": [
  {
   "cell_type": "code",
   "execution_count": 1,
   "id": "80acc7f9",
   "metadata": {},
   "outputs": [],
   "source": [
    "import glob as glob"
   ]
  },
  {
   "cell_type": "code",
   "execution_count": 2,
   "id": "0ce1bd59",
   "metadata": {},
   "outputs": [],
   "source": [
    "file_list = glob.glob(\"*.nexus\")"
   ]
  },
  {
   "cell_type": "code",
   "execution_count": 3,
   "id": "2445adf1",
   "metadata": {},
   "outputs": [
    {
     "data": {
      "text/plain": [
       "<_io.TextIOWrapper name='combined_1.nexus' mode='w' encoding='cp1252'>"
      ]
     },
     "execution_count": 3,
     "metadata": {},
     "output_type": "execute_result"
    }
   ],
   "source": [
    "from fileinput import filename\n",
    "from Bio.Nexus import Nexus\n",
    "nexi = [(fname, Nexus.Nexus(fname)) for fname in file_list]\n",
    "combined = Nexus.combine(nexi)\n",
    "combined.write_nexus_data(filename=open(\"combined_1.nexus\",\"w\"))"
   ]
  },
  {
   "cell_type": "code",
   "execution_count": null,
   "id": "0d04272c",
   "metadata": {},
   "outputs": [],
   "source": [
    "import dendropy\n",
    "dna_combined = dendropy.DnaCharacterMatrix.get(path=\"combined_1.nexus\", schema=\"nexus\")\n",
    "dna_combined.write(path=\"combined.phylip\", schema=\"phylip\")"
   ]
  }
 ],
 "metadata": {
  "kernelspec": {
   "display_name": "Python 3.9.7 ('base')",
   "language": "python",
   "name": "python3"
  },
  "language_info": {
   "codemirror_mode": {
    "name": "ipython",
    "version": 3
   },
   "file_extension": ".py",
   "mimetype": "text/x-python",
   "name": "python",
   "nbconvert_exporter": "python",
   "pygments_lexer": "ipython3",
   "version": "3.9.7"
  },
  "vscode": {
   "interpreter": {
    "hash": "ad2bdc8ecc057115af97d19610ffacc2b4e99fae6737bb82f5d7fb13d2f2c186"
   }
  }
 },
 "nbformat": 4,
 "nbformat_minor": 5
}
