{
 "cells": [
  {
   "cell_type": "code",
   "execution_count": 76,
   "metadata": {},
   "outputs": [],
   "source": [
    "import glob as glob"
   ]
  },
  {
   "cell_type": "code",
   "execution_count": 77,
   "metadata": {},
   "outputs": [],
   "source": [
    "import random"
   ]
  },
  {
   "cell_type": "code",
   "execution_count": 78,
   "metadata": {},
   "outputs": [],
   "source": [
    "file_list = glob.glob(\"*.phylip\")"
   ]
  },
  {
   "cell_type": "code",
   "execution_count": 79,
   "metadata": {},
   "outputs": [],
   "source": [
    "sampled_list = random.sample(file_list, 100)"
   ]
  },
  {
   "cell_type": "code",
   "execution_count": 80,
   "metadata": {},
   "outputs": [
    {
     "name": "stdout",
     "output_type": "stream",
     "text": [
      "['uce-7890.phylip', 'uce-2345.phylip', 'uce-4360.phylip', 'uce-7530.phylip', 'uce-1917.phylip', 'uce-4776.phylip', 'uce-6187.phylip', 'uce-3681.phylip', 'uce-83.phylip', 'uce-873.phylip', 'uce-6770.phylip', 'uce-3964.phylip', 'uce-4643.phylip', 'uce-2124.phylip', 'uce-2618.phylip', 'uce-4300.phylip', 'uce-7247.phylip', 'uce-7719.phylip', 'uce-263.phylip', 'uce-836.phylip', 'uce-3363.phylip', 'uce-3130.phylip', 'uce-5607.phylip', 'uce-788.phylip', 'uce-2508.phylip', 'uce-7287.phylip', 'uce-1013.phylip', 'uce-3200.phylip', 'uce-5568.phylip', 'uce-3709.phylip', 'uce-7994.phylip', 'uce-7291.phylip', 'uce-6540.phylip', 'uce-2052.phylip', 'uce-1769.phylip', 'uce-4940.phylip', 'uce-7747.phylip', 'uce-3543.phylip', 'uce-2260.phylip', 'uce-6460.phylip', 'uce-3479.phylip', 'uce-3055.phylip', 'uce-5883.phylip', 'uce-1893.phylip', 'uce-8029.phylip', 'uce-877.phylip', 'uce-4819.phylip', 'uce-7842.phylip', 'uce-1976.phylip', 'uce-3539.phylip', 'uce-3891.phylip', 'uce-7958.phylip', 'uce-3402.phylip', 'uce-4726.phylip', 'uce-6940.phylip', 'uce-5396.phylip', 'uce-5994.phylip', 'uce-305.phylip', 'uce-2303.phylip', 'uce-2687.phylip', 'uce-6194.phylip', 'uce-754.phylip', 'uce-516.phylip', 'uce-2831.phylip', 'uce-4904.phylip', 'uce-4176.phylip', 'uce-4136.phylip', 'uce-7845.phylip', 'uce-5054.phylip', 'uce-7267.phylip', 'uce-6505.phylip', 'uce-3676.phylip', 'uce-6718.phylip', 'uce-6396.phylip', 'uce-3141.phylip', 'uce-1014.phylip', 'uce-4509.phylip', 'uce-2142.phylip', 'uce-3214.phylip', 'uce-298.phylip', 'uce-3031.phylip', 'uce-2858.phylip', 'uce-4336.phylip', 'uce-607.phylip', 'uce-4525.phylip', 'uce-5975.phylip', 'uce-6242.phylip', 'uce-958.phylip', 'uce-7578.phylip', 'uce-1170.phylip', 'uce-4573.phylip', 'uce-5808.phylip', 'uce-7650.phylip', 'uce-1291.phylip', 'uce-2194.phylip', 'uce-5611.phylip', 'uce-7758.phylip', 'uce-3789.phylip', 'uce-2853.phylip', 'uce-2506.phylip']\n"
     ]
    }
   ],
   "source": [
    "print(sampled_list)"
   ]
  },
  {
   "cell_type": "code",
   "execution_count": 81,
   "metadata": {},
   "outputs": [],
   "source": [
    "import shutil"
   ]
  },
  {
   "cell_type": "code",
   "execution_count": 82,
   "metadata": {},
   "outputs": [],
   "source": [
    "for f in sampled_list:\n",
    "    shutil.move(f, \"10/\")"
   ]
  }
 ],
 "metadata": {
  "kernelspec": {
   "display_name": "Python 3.9.7 ('base')",
   "language": "python",
   "name": "python3"
  },
  "language_info": {
   "codemirror_mode": {
    "name": "ipython",
    "version": 3
   },
   "file_extension": ".py",
   "mimetype": "text/x-python",
   "name": "python",
   "nbconvert_exporter": "python",
   "pygments_lexer": "ipython3",
   "version": "3.9.7"
  },
  "orig_nbformat": 4,
  "vscode": {
   "interpreter": {
    "hash": "ad2bdc8ecc057115af97d19610ffacc2b4e99fae6737bb82f5d7fb13d2f2c186"
   }
  }
 },
 "nbformat": 4,
 "nbformat_minor": 2
}
