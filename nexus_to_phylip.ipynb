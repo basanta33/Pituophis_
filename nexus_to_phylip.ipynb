{
 "cells": [
  {
   "cell_type": "code",
   "execution_count": 2,
   "metadata": {},
   "outputs": [],
   "source": [
    "import dendropy "
   ]
  },
  {
   "cell_type": "code",
   "execution_count": 3,
   "metadata": {},
   "outputs": [],
   "source": [
    "import glob as glob"
   ]
  },
  {
   "cell_type": "code",
   "execution_count": 4,
   "metadata": {},
   "outputs": [],
   "source": [
    "file_list = glob.glob(\"data/*.nexus\")"
   ]
  },
  {
   "cell_type": "code",
   "execution_count": 5,
   "metadata": {},
   "outputs": [],
   "source": [
    "mapper = {\"Pantherophis_obsoletusJeffersonLA\" : \"^Pantherophis_obsoletusJeffersonLA\",\n",
    "\"Pcatenifer_SiouxNE\" : \"^Pcatenifer_SiouxNE\",\n",
    "\"Pcatenifer_WheelerTX\" : \"^Pcatenifer_WheelerTX\",\n",
    "\"Pml_JacksonMS1\" : \"^Pml_JacksonMS1\",\n",
    "\"Pml_JacksonMS2\" : \"^Pml_JacksonMS2\",\n",
    "\"Pml_JacksonMS3\" : \"^Pml_JacksonMS3\",\n",
    "\"Pml_MobileAL\" : \"^Pml_MobileAL\",\n",
    "\"Pml_PerryMS1\" : \"^Pml_PerryMS1\",\n",
    "\"Pml_PerryMS2\" : \"^Pml_PerryMS2\",\n",
    "\"Pml_PerryMS3\" : \"^Pml_PerryMS3\",\n",
    "\"Pmmel_AutaugaAL\" : \"^Pmmel_AutaugaAL\",\n",
    "\"Pmmel_BakerGA\" : \"^Pmmel_BakerGA\",\n",
    "\"Pmmel_BurlingtonNJ1\" : \"^Pmmel_BurlingtonNJ1\",\n",
    "\"Pmmel_BurlingtonNJ2\" : \"^Pmmel_BurlingtonNJ2\",\n",
    "\"Pmmel_CovingtonAL1\" : \"^Pmmel_CovingtonAL1\",\n",
    "\"Pmmel_CovingtonAL2\" : \"^Pmmel_CovingtonAL2\",\n",
    "\"Pmmel_HokeNC\" : \"^Pmmel_HokeNC\",\n",
    "\"Pmmel_HumphreysTN\" : \"^Pmmel_HumphreysTN\",\n",
    "\"Pmmel_HuntingdonTN\": \"^Pmmel_HuntingdonTN\",\n",
    "\"Pmmel_MarionGA1\" : \"^Pmmel_MarionGA1\",\n",
    "\"Pmmel_MarionGA2\"  : \"^Pmmel_MarionGA2\",\n",
    "\"Pmmel_OceanNJ\" : \"^Pmmel_OceanNJ\",\n",
    "\"Pmmg_HighlandsFL\" : \"^Pmmg_HighlandsFL\",\n",
    "\"Pmmel_PierceGA\" : \"^Pmmel_PierceGA\",\n",
    "\"Pmmel_RichmondNC\" : \"^Pmmel_RichmondNC\",\n",
    "\"Pmmel_RockinghamNC\" : \"^Pmmel_RockinghamNC\",\n",
    "\"Pmmel_ScotlandNC\" : \"^Pmmel_ScotlandNC\",\n",
    "\"Pmmel_TurnerGA\" : \"^Pmmel_TurnerGA\",\n",
    "\"Pmmel_WinstonAL\" : \"^Pmmel_WinstonAL\",\n",
    "\"Pmmg_AlachuaFL\" : \"^Pmmg_AlachuaFL\",\n",
    "\"Pmmg_BristolFL\" : \"^Pmmg_BristolFL\",\n",
    "\"Pmmg_BrooksvilleFL\" : \"^Pmmg_BrooksvilleFL\",\n",
    "\"Pmmg_CantonmentFL\" : \"^Pmmg_CantonmentFL\",\n",
    "\"Pmmg_HamiltonFL\" : \"^Pmmg_HamiltonFL\",\n",
    "\"Pmmg_HernandoFL\" : \"^Pmmg_HernandoFL\",\n",
    "\"Pmmg_LafayetteFL\" : \"^Pmmg_LafayetteFL\",\n",
    "\"Pmmg_LibertyFL\" : \"^Pmmg_LibertyFL\",\n",
    "\"Pmmg_MarionFL\" : \"^Pmmg_MarionFL\",\n",
    "\"Pmmg_OkaloosaFL\" : \"^Pmmg_OkaloosaFL\",\n",
    "\"Pmmg_OkeechobeeFL1\" : \"^Pmmg_OkeechobeeFL1\",\n",
    "\"Pmmg_OkeechobeeFL2\" : \"^Pmmg_OkeechobeeFL2\",\n",
    "\"Pmmg_PDLeFL\" : \"^Pmmg_PDLeFL\",\n",
    "\"Pmmg_SanRosFL\" : \"^Pmmg_SanRosFL\",\n",
    "\"Pruthveni_BienvilleLA1\" : \"^Pruthveni_BienvilleLA1\",\n",
    "\"Pruthveni_BienvilleLA2\" : \"^Pruthveni_BienvilleLA2\"\n",
    "}"
   ]
  },
  {
   "cell_type": "code",
   "execution_count": 7,
   "metadata": {},
   "outputs": [],
   "source": [
    "for f in file_list:\n",
    "    cytb = dendropy.DnaCharacterMatrix.get(path = f, schema = \"nexus\", preserve_underscores = True)\n",
    "    for taxon in cytb.taxon_namespace:\n",
    "        taxon.label = mapper[taxon.label]\n",
    "    cytb.write(path = f, schema = \"phylip\")"
   ]
  },
  {
   "cell_type": "code",
   "execution_count": null,
   "metadata": {},
   "outputs": [],
   "source": []
  }
 ],
 "metadata": {
  "kernelspec": {
   "display_name": "Python 3",
   "language": "python",
   "name": "python3"
  },
  "language_info": {
   "codemirror_mode": {
    "name": "ipython",
    "version": 3
   },
   "file_extension": ".py",
   "mimetype": "text/x-python",
   "name": "python",
   "nbconvert_exporter": "python",
   "pygments_lexer": "ipython3",
   "version": "3.7.7"
  }
 },
 "nbformat": 4,
 "nbformat_minor": 4
}
